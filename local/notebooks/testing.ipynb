{
 "cells": [
  {
   "cell_type": "code",
   "execution_count": 1,
   "metadata": {},
   "outputs": [],
   "source": [
    "import mne\n",
    "import os\n",
    "import numpy as np\n",
    "import fnmatch\n",
    "from fooof import FOOOFGroup\n",
    "from fooof.analysis import *\n",
    "from pathlib import Path"
   ]
  },
  {
   "cell_type": "code",
   "execution_count": 2,
   "metadata": {},
   "outputs": [],
   "source": [
    "DATASET = 'rtPB'\n",
    "STATE = 'rest'\n"
   ]
  },
  {
   "cell_type": "code",
   "execution_count": 3,
   "metadata": {},
   "outputs": [],
   "source": [
    "if STATE == 'rest':\n",
    "\tresults_path = 'D:\\\\abc\\\\Documents\\\\Research\\\\Results\\\\Rest_Results'\n",
    "elif STATE == 'trial':\n",
    "\tresults_path = 'D:\\\\abc\\\\Documents\\\\Research\\\\Results\\\\Trial_Results'\n"
   ]
  },
  {
   "cell_type": "code",
   "execution_count": 4,
   "metadata": {},
   "outputs": [
    {
     "data": {
      "text/plain": [
       "'rtPB'"
      ]
     },
     "execution_count": 4,
     "metadata": {},
     "output_type": "execute_result"
    }
   ],
   "source": [
    "DATASET"
   ]
  },
  {
   "cell_type": "code",
   "execution_count": 5,
   "metadata": {},
   "outputs": [],
   "source": [
    "if DATASET == 'rtPB':\n",
    "\tsubj_dat_num = list(range(3502, 3516))\n",
    "\tif STATE == 'rest':\n",
    "\t\tnum_blocks = 2\n",
    "\telif STATE == 'trial':\n",
    "\t\tnum_blocks = 10 \n",
    "\tn_subjects = len(subj_dat_num)\n",
    "# Properties of PBA Dataset\n",
    "elif DATASET == 'PBA':\n",
    "\tsubj_dat_num = list(range(3001, 3015))\n",
    "\tif STATE == 'rest':\n",
    "\t\tnum_blocks = 1\n",
    "\telif STATE == 'trial':\n",
    "\t\tnum_blocks = 12 \n",
    "\tn_subjects = len(subj_dat_num)\n",
    "\n",
    "# General properties\n",
    "#number of channels\n",
    "n_channels = 64\n",
    "\n",
    "# Set up indexes for accessing data, for convenience\n",
    "cf_ind, am_ind, bw_ind = 0, 1, 2\n",
    "n_feats = 3\n",
    "\n",
    "# Define bands of interest\n",
    "bands = {'theta': [2,7],\n",
    "\t\t\t'alpha': [8,14],\n",
    "\t\t\t'beta': [15,30]}\n"
   ]
  },
  {
   "cell_type": "code",
   "execution_count": 6,
   "metadata": {},
   "outputs": [],
   "source": [
    "results = {}"
   ]
  },
  {
   "cell_type": "code",
   "execution_count": 7,
   "metadata": {},
   "outputs": [],
   "source": [
    "get_band_peak?"
   ]
  },
  {
   "cell_type": "code",
   "execution_count": 13,
   "metadata": {},
   "outputs": [],
   "source": [
    "temp = np.zeros(shape=[ n_subjects, num_blocks, n_channels, n_feats])"
   ]
  },
  {
   "cell_type": "code",
   "execution_count": 8,
   "metadata": {},
   "outputs": [
    {
     "name": "stdout",
     "output_type": "stream",
     "text": [
      "Current Subject Results: 3502\n",
      "Current Subject Results: 3502 0 failed to load\n",
      "Current Subject Results: 3502 1 failed to load\n",
      "Current Subject3502 does not exist\n",
      "Current Subject Results: 3503\n",
      "Current Subject Results: 3503 0 successfully loaded\n",
      "File SAVED\n",
      "Current Subject Results: 3503 1 successfully loaded\n",
      "File SAVED\n",
      "Current Subject3503 does not exist\n",
      "Current Subject Results: 3504\n",
      "Current Subject Results: 3504 0 successfully loaded\n",
      "File SAVED\n",
      "Current Subject Results: 3504 1 successfully loaded\n",
      "File SAVED\n",
      "Current Subject3504 does not exist\n",
      "Current Subject Results: 3505\n",
      "Current Subject Results: 3505 0 successfully loaded\n",
      "File SAVED\n",
      "Current Subject Results: 3505 1 successfully loaded\n",
      "File SAVED\n",
      "Current Subject3505 does not exist\n",
      "Current Subject Results: 3506\n",
      "Current Subject Results: 3506 0 successfully loaded\n",
      "File SAVED\n",
      "Current Subject Results: 3506 1 successfully loaded\n",
      "File SAVED\n",
      "Current Subject3506 does not exist\n",
      "Current Subject Results: 3507\n",
      "Current Subject Results: 3507 0 successfully loaded\n",
      "File SAVED\n",
      "Current Subject Results: 3507 1 successfully loaded\n",
      "File SAVED\n",
      "Current Subject3507 does not exist\n",
      "Current Subject Results: 3508\n",
      "Current Subject Results: 3508 0 successfully loaded\n",
      "File SAVED\n",
      "Current Subject Results: 3508 1 successfully loaded\n",
      "File SAVED\n",
      "Current Subject3508 does not exist\n",
      "Current Subject Results: 3509\n",
      "Current Subject Results: 3509 0 failed to load\n",
      "Current Subject Results: 3509 1 failed to load\n",
      "Current Subject3509 does not exist\n",
      "Current Subject Results: 3510\n",
      "Current Subject Results: 3510 0 successfully loaded\n",
      "File SAVED\n",
      "Current Subject Results: 3510 1 successfully loaded\n",
      "File SAVED\n",
      "Current Subject3510 does not exist\n",
      "Current Subject Results: 3511\n",
      "Current Subject Results: 3511 0 successfully loaded\n",
      "File SAVED\n",
      "Current Subject Results: 3511 1 successfully loaded\n",
      "File SAVED\n",
      "Current Subject3511 does not exist\n",
      "Current Subject Results: 3512\n",
      "Current Subject Results: 3512 0 successfully loaded\n",
      "File SAVED\n",
      "Current Subject Results: 3512 1 successfully loaded\n",
      "File SAVED\n",
      "Current Subject3512 does not exist\n",
      "Current Subject Results: 3513\n",
      "Current Subject Results: 3513 0 successfully loaded\n",
      "File SAVED\n",
      "Current Subject Results: 3513 1 successfully loaded\n",
      "File SAVED\n",
      "Current Subject3513 does not exist\n",
      "Current Subject Results: 3514\n",
      "Current Subject Results: 3514 0 successfully loaded\n",
      "File SAVED\n",
      "Current Subject Results: 3514 1 successfully loaded\n",
      "File SAVED\n",
      "Current Subject3514 does not exist\n",
      "Current Subject Results: 3515\n",
      "Current Subject Results: 3515 0 successfully loaded\n",
      "File SAVED\n",
      "Current Subject Results: 3515 1 successfully loaded\n",
      "File SAVED\n",
      "Current Subject3515 does not exist\n"
     ]
    }
   ],
   "source": [
    "results = {}\n",
    "for band_name in bands.keys():\n",
    "\tresults[band_name] = np.zeros(shape=[n_subjects, num_blocks, n_channels, n_feats])\n",
    "\n",
    "for sub_index, sub_num in enumerate(subj_dat_num):\n",
    "\t\tprint('Current Subject Results: ' + str(sub_num))\n",
    "\t\t\n",
    "\t\t# load rest results data\n",
    "\t\tfor block in range(0, num_blocks):\n",
    "\t\t\tsubj_file = str(sub_num) + \"fooof_group_results\" + str(block) + \".json\"\n",
    "\t\t\tfg = FOOOFGroup()\n",
    "\t\t\tfull_path = os.path.join(results_path, subj_file)\n",
    "\t\t\tpath_check = Path(full_path)\n",
    "\t\t\tif path_check.is_file():\n",
    "\t\t\t\tfg.load(file_name=subj_file, file_path=results_path)\n",
    "\t\t\tif not fg.group_results:\n",
    "\t\t\t\tprint('Current Subject Results: ' + str(sub_num) + \" \" + str(block) + \" failed to load\")\n",
    "\t\t\t\tcontinue\n",
    "\t\t\telse:\n",
    "\t\t\t\tprint('Current Subject Results: ' +  str(sub_num) + \" \" + str(block) +\" successfully loaded\")\n",
    "                \n",
    "\t\t\tfor ind, res in enumerate(fg):\n",
    "\t\t\t\tfor band_label, band_range in bands.items():\n",
    "\t\t\t\t\tresults[band_label][sub_index, block, ind,  :] = get_band_peak(res.peak_params, band_range, True)\n",
    "\t\t\t# Save out matrices\n",
    "\t\t\t# Update to save out files using DATASET and STATE\n",
    "\n",
    "\t\t\tprint(\"File SAVED\")\n",
    "\t\telse:\n",
    "\t\t\tprint('Current Subject' + str(sub_num)+ ' does not exist')"
   ]
  },
  {
   "cell_type": "code",
   "execution_count": 11,
   "metadata": {
    "scrolled": false
   },
   "outputs": [
    {
     "data": {
      "text/plain": [
       "(14, 2, 64, 3)"
      ]
     },
     "execution_count": 11,
     "metadata": {},
     "output_type": "execute_result"
    }
   ],
   "source": [
    "results[\"alpha\"].shape"
   ]
  },
  {
   "cell_type": "code",
   "execution_count": 21,
   "metadata": {},
   "outputs": [
    {
     "data": {
      "text/plain": [
       "10.773246116106005"
      ]
     },
     "execution_count": 21,
     "metadata": {},
     "output_type": "execute_result"
    }
   ],
   "source": [
    "#Access the first subject, 2nd block channel 60, CF\n",
    "results[\"alpha\"][1,1,59,0]"
   ]
  },
  {
   "cell_type": "code",
   "execution_count": 13,
   "metadata": {},
   "outputs": [
    {
     "data": {
      "text/plain": [
       "array([[[[ 0.        ,  0.        ,  0.        ],\n",
       "         [ 0.        ,  0.        ,  0.        ],\n",
       "         [ 0.        ,  0.        ,  0.        ],\n",
       "         ...,\n",
       "         [ 0.        ,  0.        ,  0.        ],\n",
       "         [ 0.        ,  0.        ,  0.        ],\n",
       "         [ 0.        ,  0.        ,  0.        ]],\n",
       "\n",
       "        [[ 0.        ,  0.        ,  0.        ],\n",
       "         [ 0.        ,  0.        ,  0.        ],\n",
       "         [ 0.        ,  0.        ,  0.        ],\n",
       "         ...,\n",
       "         [ 0.        ,  0.        ,  0.        ],\n",
       "         [ 0.        ,  0.        ,  0.        ],\n",
       "         [ 0.        ,  0.        ,  0.        ]]],\n",
       "\n",
       "\n",
       "       [[[17.84901893,  0.07325866,  3.3708064 ],\n",
       "         [17.09834449,  0.07792765,  3.8427217 ],\n",
       "         [24.64950932,  0.09376885,  1.02801873],\n",
       "         ...,\n",
       "         [16.04836879,  0.44047208,  4.85769159],\n",
       "         [18.23684778,  0.49836503,  6.        ],\n",
       "         [18.7462579 ,  0.51421609,  4.85885025]],\n",
       "\n",
       "        [[18.87970577,  0.0918683 ,  3.55385258],\n",
       "         [19.07555912,  0.14065166,  3.28887645],\n",
       "         [19.78070704,  0.0884939 ,  4.71801581],\n",
       "         ...,\n",
       "         [18.01802076,  0.50797515,  5.9364543 ],\n",
       "         [18.10973319,  0.53607685,  5.75098438],\n",
       "         [17.68560221,  0.53571175,  5.31926584]]],\n",
       "\n",
       "\n",
       "       [[[21.63502325,  0.31079919,  4.80034759],\n",
       "         [20.49527718,  0.31580284,  4.0596962 ],\n",
       "         [23.29311476,  0.18744792,  3.0508939 ],\n",
       "         ...,\n",
       "         [19.93734584,  0.14703562,  5.72132181],\n",
       "         [18.79246348,  0.21046966,  5.2171338 ],\n",
       "         [18.16606814,  0.24213822,  5.99999999]],\n",
       "\n",
       "        [[24.60652332,  0.2430971 ,  2.84109985],\n",
       "         [25.2201926 ,  0.22895544,  2.71887041],\n",
       "         [24.92401626,  0.14049966,  2.45715446],\n",
       "         ...,\n",
       "         [21.06355688,  0.14612937,  4.25561835],\n",
       "         [20.65101365,  0.17373409,  4.45163279],\n",
       "         [20.49478537,  0.15229294,  4.88245295]]],\n",
       "\n",
       "\n",
       "       ...,\n",
       "\n",
       "\n",
       "       [[[20.0460446 ,  0.29384102,  5.36339243],\n",
       "         [20.06416926,  0.19773965,  6.        ],\n",
       "         [24.60102025,  0.16892737,  1.84154772],\n",
       "         ...,\n",
       "         [19.20203467,  0.35402665,  5.35670329],\n",
       "         [19.08330344,  0.36027479,  4.9640422 ],\n",
       "         [19.69606675,  0.19303627,  2.09238426]],\n",
       "\n",
       "        [[17.97469849,  0.2290048 ,  6.        ],\n",
       "         [22.43933104,  0.20139387,  3.40053498],\n",
       "         [23.50580888,  0.23708254,  3.17716866],\n",
       "         ...,\n",
       "         [17.77948686,  0.24447647,  6.        ],\n",
       "         [15.99269813,  0.30727136,  5.99996563],\n",
       "         [22.24835838,  0.13356578,  2.96897964]]],\n",
       "\n",
       "\n",
       "       [[[20.41892709,  0.3099029 ,  2.58840084],\n",
       "         [20.78369189,  0.30219911,  2.76375591],\n",
       "         [20.37735356,  0.27339684,  1.32361386],\n",
       "         ...,\n",
       "         [20.85539161,  0.31263259,  3.57679711],\n",
       "         [20.42423444,  0.56852257,  3.32756435],\n",
       "         [20.3590027 ,  0.54257264,  2.81674946]],\n",
       "\n",
       "        [[21.1874452 ,  0.32867523,  2.93373568],\n",
       "         [20.35265918,  0.26891339,  1.78377277],\n",
       "         [20.90246145,  0.29414662,  2.72675069],\n",
       "         ...,\n",
       "         [21.38077677,  0.40322104,  2.65666161],\n",
       "         [21.38482553,  0.63089958,  2.64383395],\n",
       "         [20.91715408,  0.50228938,  2.23268765]]],\n",
       "\n",
       "\n",
       "       [[[20.44671464,  0.12175682,  1.98336484],\n",
       "         [20.35100739,  0.11204211,  1.1747229 ],\n",
       "         [16.89576304,  0.09651876,  1.19516997],\n",
       "         ...,\n",
       "         [17.06649377,  0.22420147,  2.32359015],\n",
       "         [20.22731852,  0.1610712 ,  3.66534917],\n",
       "         [21.78241984,  0.34237384,  1.23550179]],\n",
       "\n",
       "        [[19.21954104,  0.18395678,  2.89714979],\n",
       "         [18.9383483 ,  0.13906721,  3.58810106],\n",
       "         [18.57182161,  0.09420616,  2.22870326],\n",
       "         ...,\n",
       "         [18.72612545,  0.42203075,  4.78421328],\n",
       "         [18.81321485,  0.35797958,  4.37587512],\n",
       "         [24.09456153,  0.11201889,  1.02753171]]]])"
      ]
     },
     "execution_count": 13,
     "metadata": {},
     "output_type": "execute_result"
    }
   ],
   "source": [
    "results[\"beta\"]"
   ]
  },
  {
   "cell_type": "code",
   "execution_count": 17,
   "metadata": {},
   "outputs": [],
   "source": [
    "import pickle \n",
    "output = open('data.pkl','wb')\n",
    "\n",
    "pickle.dump(results, output)\n",
    "output.close()"
   ]
  },
  {
   "cell_type": "code",
   "execution_count": null,
   "metadata": {},
   "outputs": [],
   "source": []
  },
  {
   "cell_type": "code",
   "execution_count": 18,
   "metadata": {},
   "outputs": [],
   "source": [
    "ret = open('data.pkl','rb')\n",
    "rtPB_rest_results = pickle.load(ret)"
   ]
  },
  {
   "cell_type": "code",
   "execution_count": 20,
   "metadata": {},
   "outputs": [
    {
     "data": {
      "text/plain": [
       "(14, 2, 64, 3)"
      ]
     },
     "execution_count": 20,
     "metadata": {},
     "output_type": "execute_result"
    }
   ],
   "source": [
    "rtPB_rest_results['beta'].shape"
   ]
  },
  {
   "cell_type": "code",
   "execution_count": null,
   "metadata": {},
   "outputs": [],
   "source": []
  }
 ],
 "metadata": {
  "kernelspec": {
   "display_name": "Python 3",
   "language": "python",
   "name": "python3"
  },
  "language_info": {
   "codemirror_mode": {
    "name": "ipython",
    "version": 3
   },
   "file_extension": ".py",
   "mimetype": "text/x-python",
   "name": "python",
   "nbconvert_exporter": "python",
   "pygments_lexer": "ipython3",
   "version": "3.6.4"
  }
 },
 "nbformat": 4,
 "nbformat_minor": 2
}
