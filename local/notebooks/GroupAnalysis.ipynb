{
 "cells": [
  {
   "cell_type": "markdown",
   "metadata": {},
   "source": [
    "# EEGMapping: Group Analysis (Local Data)"
   ]
  },
  {
   "cell_type": "code",
   "execution_count": null,
   "metadata": {},
   "outputs": [],
   "source": [
    "%matplotlib inline\n",
    "%load_ext autoreload\n",
    "\n",
    "import os\n",
    "import pickle\n",
    "\n",
    "import mne\n",
    "import numpy as np\n",
    "import pandas as pd\n",
    "from matplotlib import cm\n",
    "import matplotlib.pyplot as plt\n",
    "from sklearn.preprocessing import scale\n",
    "from scipy.stats import ttest_1samp, ttest_ind, sem, pearsonr\n",
    "\n",
    "from fooof import FOOOF, FOOOFGroup"
   ]
  },
  {
   "cell_type": "code",
   "execution_count": null,
   "metadata": {},
   "outputs": [],
   "source": [
    "# Import custom code for this analysis\n",
    "# % autoreload 2\n",
    "from plots import *\n",
    "from utilities import *\n",
    "from analysis import *"
   ]
  },
  {
   "cell_type": "markdown",
   "metadata": {},
   "source": [
    "## Settings\n",
    "\n",
    "Put all general settings here. "
   ]
  },
  {
   "cell_type": "code",
   "execution_count": null,
   "metadata": {},
   "outputs": [],
   "source": [
    "# Set whether to save out all the figures\n",
    "SAVE_FIGS = False\n",
    "\n",
    "# Whether to make the data\n",
    "MASKING = False\n",
    "\n",
    "# This controls how much stuff MNE prints out\n",
    "mne.set_log_level(verbose=False)"
   ]
  },
  {
   "cell_type": "markdown",
   "metadata": {
    "collapsed": true
   },
   "source": [
    "# Loading information"
   ]
  },
  {
   "cell_type": "code",
   "execution_count": null,
   "metadata": {},
   "outputs": [],
   "source": [
    "#lOADING CHANNELS FROM txt\n",
    "#save_path = \"C:\\\\Users\\\\abc\\\\EEG-MNE\\\\data\"\n",
    "save_path = '../data'\n",
    "\n",
    "chan_dat = 'channel_dat.txt'\n",
    "chan_file = os.path.join(save_path, chan_dat)"
   ]
  },
  {
   "cell_type": "code",
   "execution_count": null,
   "metadata": {},
   "outputs": [],
   "source": [
    "# Set up subject numbers\n",
    "subj_dat_num = list(range(3502, 3516))\n",
    "subj_dat_num2 =list(range(3001, 3015))\n",
    "all_subj = subj_dat_num + subj_dat_num2"
   ]
  },
  {
   "cell_type": "code",
   "execution_count": null,
   "metadata": {},
   "outputs": [],
   "source": [
    "# #LOADING CHANNELS from raw data\n",
    "# # This base path will need updating\n",
    "base_path = 'D:\\\\abc\\\\Documents\\\\Research\\\\PBA_Data'\n",
    "\n",
    "# These should stay the same\n",
    "subj_dat_fname = '._3001_resampled.set'\n",
    "subj_dat_fname = '3002_resampled.set'\n",
    "full_path = os.path.join(base_path, subj_dat_fname)\n",
    "eeg_dat = mne.io.read_raw_eeglab(full_path, preload=True)\n",
    "\n",
    "# For Tom's Computer\n",
    "# save_path = '/Users/tom/Documents/Research/1-Projects/Phase/Experiments/PBA/2-Data/PBA-3/2-processed/EEG'\n",
    "# eeg_dat = mne.io.read_raw_eeglab(os.path.join(save_path, '3002_resampled.set'), preload=True, verbose=False)"
   ]
  },
  {
   "cell_type": "code",
   "execution_count": null,
   "metadata": {},
   "outputs": [],
   "source": [
    "# Load and set the montage for the data\n",
    "montage = mne.channels.read_montage('standard_1020', eeg_dat.ch_names)\n",
    "eeg_dat.set_montage(montage)"
   ]
  },
  {
   "cell_type": "code",
   "execution_count": null,
   "metadata": {},
   "outputs": [],
   "source": [
    "# Check the sensor map\n",
    "eeg_dat.plot_sensors(show_names=True);"
   ]
  },
  {
   "cell_type": "code",
   "execution_count": null,
   "metadata": {},
   "outputs": [],
   "source": [
    "# Extract channel positions from a subjects data object\n",
    "pos_new = np.asarray([ch['loc'][:3] for ch in eeg_dat.info['chs']])\n",
    "\n",
    "# Drop stim channel\n",
    "pos_new = pos_new[:-1, :]"
   ]
  },
  {
   "cell_type": "code",
   "execution_count": null,
   "metadata": {},
   "outputs": [],
   "source": [
    "# Update montage with channel positions\n",
    "montage.pos = pos_new\n",
    "pos = montage.get_pos2d()\n",
    "montage = None"
   ]
  },
  {
   "cell_type": "markdown",
   "metadata": {
    "collapsed": true
   },
   "source": [
    "# DATA SET UP"
   ]
  },
  {
   "cell_type": "code",
   "execution_count": null,
   "metadata": {},
   "outputs": [],
   "source": [
    "# Load oscillations data\n",
    "rtPB_rest_results = load_pickle('rtPB_rest_results')\n",
    "rtPB_trial_results = load_pickle('rtPB_trial_results')\n",
    "PBA_rest_results = load_pickle('PBA_rest_results')\n",
    "PBA_trial_results = load_pickle('PBA_trial_results')"
   ]
  },
  {
   "cell_type": "code",
   "execution_count": null,
   "metadata": {},
   "outputs": [],
   "source": [
    "# Load exponent data\n",
    "rtPB_rest_exponent_results = load_pickle('rtPB_rest_exponent_results')\n",
    "rtPB_trial_exponent_results = load_pickle('rtPB_trial_exponent_results')\n",
    "PBA_rest_exponent_results = load_pickle('PBA_rest_exponent_results')\n",
    "PBA_trial_exponent_results = load_pickle('PBA_trial_exponent_results')"
   ]
  },
  {
   "cell_type": "markdown",
   "metadata": {},
   "source": [
    "## Masking"
   ]
  },
  {
   "cell_type": "code",
   "execution_count": null,
   "metadata": {},
   "outputs": [],
   "source": [
    "# Set the channel cluster of interest\n",
    "pos_ch_cluster = ['Oz','O1','O2','POz','PO3','PO4','PO7','PO8','PO9','PO10']\n",
    "# Check the indices for the channel cluster\n",
    "pos_ch_cluster_index = masking_cluster(pos_ch_cluster, eeg_dat)"
   ]
  },
  {
   "cell_type": "markdown",
   "metadata": {},
   "source": [
    "# Analyses across STATE"
   ]
  },
  {
   "cell_type": "code",
   "execution_count": null,
   "metadata": {},
   "outputs": [],
   "source": [
    "# Set up date for state plots\n",
    "rtpb_all_osc_data = [rtPB_trial_results, rtPB_rest_results]\n",
    "pba_all_osc_data = [PBA_trial_results, PBA_rest_results]\n",
    "comb_all_osc_data = [combine_groups_dict(rtPB_trial_results, PBA_trial_results),\n",
    "                     combine_groups_dict(rtPB_rest_results, PBA_rest_results)]\n",
    "\n",
    "# Make list of possible groups to run\n",
    "groups_oscs = [rtpb_all_osc_data, pba_all_osc_data, comb_all_osc_data]\n",
    "\n",
    "rtpb_all_exponent_data = [rtPB_trial_exponent_results, rtPB_rest_exponent_results]\n",
    "pba_all_exponent_data = [PBA_trial_exponent_results, PBA_rest_exponent_results]\n",
    "comb_all_exponent_data = [combine_groups_array(rtPB_trial_exponent_results, PBA_trial_exponent_results),\n",
    "                       combine_groups_array(rtPB_rest_exponent_results, PBA_rest_exponent_results)]\n",
    "\n",
    "# Make list of possible groups to run\n",
    "groups_exponents = [rtpb_all_exponent_data, pba_all_exponent_data, comb_all_exponent_data]\n",
    "\n",
    "# Set labels for group lists\n",
    "labels = ['rtpb', 'pba', 'comb']\n",
    "\n",
    "\n",
    "# within sample ttest"
   ]
  },
  {
   "cell_type": "code",
   "execution_count": null,
   "metadata": {},
   "outputs": [],
   "source": [
    "# Run analysis across state - oscs\n",
    "corr_dicts = []\n",
    "for label, group in zip(labels, groups_oscs):\n",
    "    corr_dicts.append(run_state_dict(group, label, False, SAVE_FIGS))"
   ]
  },
  {
   "cell_type": "code",
   "execution_count": null,
   "metadata": {},
   "outputs": [],
   "source": [
    "corr_dicts"
   ]
  },
  {
   "cell_type": "code",
   "execution_count": null,
   "metadata": {
    "scrolled": true
   },
   "outputs": [],
   "source": [
    "# Run analysis across state - exponent\n",
    "corr_dict_exp = []\n",
    "for label, group in zip(labels, groups_exponents):\n",
    "    corr_dict_exp.append(run_state_array(group, label, False, ['Offset', 'Exponent'], SAVE_FIGS))"
   ]
  },
  {
   "cell_type": "code",
   "execution_count": null,
   "metadata": {},
   "outputs": [],
   "source": [
    "corr_dict_exp"
   ]
  },
  {
   "cell_type": "markdown",
   "metadata": {},
   "source": [
    "# Analyses Across SPACE"
   ]
  },
  {
   "cell_type": "code",
   "execution_count": null,
   "metadata": {
    "scrolled": true
   },
   "outputs": [],
   "source": [
    "# Make topos, for each state, within and between datasets, for all features and bands\n",
    "spatial_corr_trial, corr_trial_stats = make_topos_dict([PBA_trial_results, rtPB_trial_results],\n",
    "                                     label=\"Trial\", eeg_dat_info=eeg_dat.info, pos=pos, save_fig=SAVE_FIGS)\n",
    "spatial_corr_rest, corr_rest_stats = make_topos_dict([PBA_rest_results, rtPB_rest_results],label=\"Rest\",\n",
    "                                    eeg_dat_info=eeg_dat.info, pos=pos, save_fig=SAVE_FIGS)\n",
    "spatial_exponent_corr_trial, exp_trial_stats = make_topos_array([PBA_trial_exponent_results, rtPB_trial_exponent_results],\n",
    "                                            label=\"Trial\", eeg_dat_info=eeg_dat.info, pos=pos,\n",
    "                                            feats=['Offsets', 'Exponent'], save_fig=SAVE_FIGS)\n",
    "spatial_exponent_corr_rest, exp_rest_stats = make_topos_array([PBA_rest_exponent_results, rtPB_rest_exponent_results], \n",
    "                                            label=\"Rest\", eeg_dat_info=eeg_dat.info, pos=pos,                                             \n",
    "                                            feats=['Offsets', 'Exponent'], save_fig=SAVE_FIGS)"
   ]
  },
  {
   "cell_type": "markdown",
   "metadata": {},
   "source": [
    "# Spatial Correlations Between Bands"
   ]
  },
  {
   "cell_type": "code",
   "execution_count": null,
   "metadata": {},
   "outputs": [],
   "source": [
    "index = group_bands.keys()\n",
    "d_corrm = pd.DataFrame(index=index, columns=index, dtype = float)\n",
    "#Dataframe for correlaton matrix\n",
    "for band in group_bands:\n",
    "    data1 = group_bands[band][:,features[feature]]\n",
    "    for band2 in group_bands:\n",
    "        data2 = group_bands[band2][:,features[feature]]\n",
    "        masked_arr1=mask_nan_array(data1)\n",
    "        masked_arr2=mask_nan_array(data2)\n",
    "        corr_val = pearsonr(data1, data2)[0]\n",
    "        d_corrm.loc[band, band2] = corr_val\n",
    "\n"
   ]
  },
  {
   "cell_type": "code",
   "execution_count": null,
   "metadata": {},
   "outputs": [],
   "source": [
    "plt.imshow(d_corrm)"
   ]
  },
  {
   "cell_type": "code",
   "execution_count": null,
   "metadata": {},
   "outputs": [],
   "source": []
  },
  {
   "cell_type": "markdown",
   "metadata": {},
   "source": [
    "# Analyses Across TIME"
   ]
  },
  {
   "cell_type": "code",
   "execution_count": null,
   "metadata": {
    "scrolled": false
   },
   "outputs": [],
   "source": [
    "PBA_across_oscs_corr_trial = run_dict_across_blocks('PBA', PBA_trial_results, pos_ch_cluster_index, SAVE_FIGS)\n",
    "rtPB_across_oscs_corr_trial = run_dict_across_blocks('rtPB', rtPB_trial_results, pos_ch_cluster_index, SAVE_FIGS)\n",
    "\n",
    "PBA_across_exponent_corr_trial = run_array_across_blocks('PBA', PBA_trial_exponent_results,\n",
    "                                                      pos_ch_cluster_index, ['Offset', 'Exponent'], SAVE_FIGS)\n",
    "rtPB_across_exponent_corr_trial = run_array_across_blocks('rtPB', rtPB_trial_exponent_results,\n",
    "                                                       pos_ch_cluster_index, ['Offset', 'Exponent'], SAVE_FIGS)"
   ]
  },
  {
   "cell_type": "code",
   "execution_count": null,
   "metadata": {},
   "outputs": [],
   "source": [
    "# Check correlations for BGs\n",
    "print(rtPB_across_exponent_corr_trial)\n",
    "print(PBA_across_exponent_corr_trial)"
   ]
  },
  {
   "cell_type": "code",
   "execution_count": null,
   "metadata": {},
   "outputs": [],
   "source": [
    "# Check correlations across Oscs\n",
    "print(rtPB_across_oscs_corr_trial)\n",
    "print(PBA_across_oscs_corr_trial)"
   ]
  },
  {
   "cell_type": "code",
   "execution_count": null,
   "metadata": {
    "scrolled": false
   },
   "outputs": [],
   "source": [
    "PBA_across_oscs_corr_trial = run_dict_across_blocks('PBA', PBA_rest_results, pos_ch_cluster_index, SAVE_FIGS)\n",
    "rtPB_across_oscs_corr_trial = run_dict_across_blocks('rtPB', rtPB_rest_results, pos_ch_cluster_index, SAVE_FIGS)\n",
    "\n",
    "PBA_across_exponent_corr_trial = run_array_across_blocks('PBA', PBA_rest_exponent_results,\n",
    "                                                      pos_ch_cluster_index, ['Offset', 'Exponent'], SAVE_FIGS)\n",
    "rtPB_across_exponent_corr_trial = run_array_across_blocks('rtPB', rtPB_rest_exponent_results,\n",
    "                                                       pos_ch_cluster_index, ['Offset', 'Exponent'], SAVE_FIGS)"
   ]
  },
  {
   "cell_type": "markdown",
   "metadata": {},
   "source": [
    "# Correlations between two blocks"
   ]
  },
  {
   "cell_type": "markdown",
   "metadata": {},
   "source": [
    "# rtPB - Rest"
   ]
  },
  {
   "cell_type": "code",
   "execution_count": null,
   "metadata": {},
   "outputs": [],
   "source": [
    "corrs = np.zeros(shape=[14, 4])\n",
    "osc_dat = rtPB_rest_results['alpha']\n",
    "slo_dat = rtPB_rest_exponent_results\n",
    "corr_labels = ['Alpha CF', 'Alpha PWS', 'Alpha BW', '1/f Slope']\n",
    "block_name = \"rtPB Rest\"\n",
    "\n",
    "for feat_ind in range(osc_dat.shape[3]):\n",
    "    cur_corrs = []\n",
    "    for subj_ind in range(osc_dat.shape[0]):\n",
    "        r_val, p_val = pearsonr(osc_dat[subj_ind, 0, :, feat_ind], osc_dat[subj_ind, 1, :, feat_ind])\n",
    "        corrs[subj_ind-1, feat_ind] = r_val\n",
    "\n",
    "for subj_ind in range(slo_dat.shape[0]):\n",
    "    r_val, p_val = pearsonr(slo_dat[subj_ind, 0, :, 1], slo_dat[subj_ind, 1, :, 1])\n",
    "    corrs[subj_ind-1, 3] = r_val\n",
    "    \n",
    "# Drop nan rows from corrs\n",
    "corrs = corrs[~np.isnan(corrs).any(axis=1)]"
   ]
  },
  {
   "cell_type": "code",
   "execution_count": null,
   "metadata": {
    "scrolled": false
   },
   "outputs": [],
   "source": [
    "## before dat became slo_dat\n",
    "plot_corrs_boxplot(corrs, corr_labels, 'AcrossRestCorrs', SAVE_FIGS)\n",
    "plt.savefig('RestCorrs.png', bbox_inches='tight', dpi=300)"
   ]
  },
  {
   "cell_type": "markdown",
   "metadata": {},
   "source": [
    "# PBA - rest\n",
    "Can't be done as PBA only has one rest block"
   ]
  },
  {
   "cell_type": "markdown",
   "metadata": {},
   "source": [
    "# rtPB - Trial"
   ]
  },
  {
   "cell_type": "code",
   "execution_count": null,
   "metadata": {},
   "outputs": [],
   "source": [
    "corrs = np.zeros(shape=[14, 4])\n",
    "osc_dat = rtPB_trial_results['alpha']\n",
    "slo_dat = rtPB_trial_exponent_results\n",
    "corr_labels = ['Alpha CF', 'Alpha PWS', 'Alpha BW', '1/f Slope']\n",
    "block_name = \"rtPB Trial\"\n",
    "\n",
    "for feat_ind in range(osc_dat.shape[3]):\n",
    "    cur_corrs = []\n",
    "    for subj_ind in range(osc_dat.shape[0]):\n",
    "        r_val, p_val = pearsonr(osc_dat[subj_ind, 0, :, feat_ind], osc_dat[subj_ind, 1, :, feat_ind])\n",
    "        corrs[subj_ind-1, feat_ind] = r_val\n",
    "\n",
    "for subj_ind in range(slo_dat.shape[0]):\n",
    "    r_val, p_val = pearsonr(slo_dat[subj_ind, 0, :, 1], slo_dat[subj_ind, 1, :, 1])\n",
    "    corrs[subj_ind-1, 3] = r_val\n",
    "    \n",
    "# Drop nan rows from corrs\n",
    "corrs = corrs[~np.isnan(corrs).any(axis=1)]"
   ]
  },
  {
   "cell_type": "code",
   "execution_count": null,
   "metadata": {
    "scrolled": false
   },
   "outputs": [],
   "source": [
    "plot_corrs_boxplot(corrs, corr_labels, 'AcrossTrialCorrs', SAVE_FIGS)\n",
    "plt.savefig('RestCorrs.png', bbox_inches='tight', dpi=300)"
   ]
  },
  {
   "cell_type": "markdown",
   "metadata": {},
   "source": [
    "# PBA - trial"
   ]
  },
  {
   "cell_type": "code",
   "execution_count": null,
   "metadata": {},
   "outputs": [],
   "source": [
    "corrs = np.zeros(shape=[14, 4])\n",
    "osc_dat = PBA_trial_results['alpha']\n",
    "slo_dat = PBA_trial_exponent_results\n",
    "corr_labels = ['Alpha CF', 'Alpha PWS', 'Alpha BW', '1/f Slope']\n",
    "block_name = \"PBA Trial\"\n",
    "\n",
    "for feat_ind in range(osc_dat.shape[3]):\n",
    "    cur_corrs = []\n",
    "    for subj_ind in range(osc_dat.shape[0]):\n",
    "        r_val, p_val = pearsonr(osc_dat[subj_ind, 0, :, feat_ind], osc_dat[subj_ind, 1, :, feat_ind])\n",
    "        corrs[subj_ind-1, feat_ind] = r_val\n",
    "\n",
    "for subj_ind in range(slo_dat.shape[0]):\n",
    "    r_val, p_val = pearsonr(slo_dat[subj_ind, 0, :, 1], slo_dat[subj_ind, 1, :, 1])\n",
    "    corrs[subj_ind-1, 3] = r_val\n",
    "    \n",
    "# Drop nan rows from corrs\n",
    "corrs = corrs[~np.isnan(corrs).any(axis=1)]"
   ]
  },
  {
   "cell_type": "code",
   "execution_count": null,
   "metadata": {},
   "outputs": [],
   "source": [
    "## before dat became slo_dat\n",
    "plot_corrs_boxplot(corrs, corr_labels, 'AcrossRestCorrs', SAVE_FIGS, )\n",
    "plt.savefig('RestCorrs.png', bbox_inches='tight', dpi=300)"
   ]
  },
  {
   "cell_type": "markdown",
   "metadata": {},
   "source": []
  },
  {
   "cell_type": "markdown",
   "metadata": {},
   "source": [
    "# Subject Variability Plots"
   ]
  },
  {
   "cell_type": "code",
   "execution_count": null,
   "metadata": {},
   "outputs": [],
   "source": [
    "# Get all rest\n",
    "all_rest = combine_groups_dict(rtPB_rest_results, PBA_rest_results)\n",
    "rest_alphas = all_rest['alpha'][:, 30, :]"
   ]
  },
  {
   "cell_type": "code",
   "execution_count": null,
   "metadata": {},
   "outputs": [],
   "source": [
    "# Plot rest alpha variability\n",
    "plot_oscillations(rest_alphas, SAVE_FIGS, save_name='OscillationVariability')\n",
    "plt.savefig('OscillationVariability')"
   ]
  },
  {
   "cell_type": "code",
   "execution_count": null,
   "metadata": {},
   "outputs": [],
   "source": [
    "# Get all aperiodics\n",
    "all_exponents = combine_groups_array(rtPB_rest_exponent_results, PBA_rest_exponent_results)"
   ]
  },
  {
   "cell_type": "code",
   "execution_count": null,
   "metadata": {},
   "outputs": [],
   "source": [
    "# Plot aperiodic variability\n",
    "plot_aperiodic(all_exponents[:, 30, :], SAVE_FIGS, save_name='BackgroundVariability')\n",
    "plt.savefig('BackgroundVariability')"
   ]
  },
  {
   "cell_type": "code",
   "execution_count": null,
   "metadata": {},
   "outputs": [],
   "source": []
  }
 ],
 "metadata": {
  "kernelspec": {
   "display_name": "Python 3",
   "language": "python",
   "name": "python3"
  },
  "language_info": {
   "codemirror_mode": {
    "name": "ipython",
    "version": 3
   },
   "file_extension": ".py",
   "mimetype": "text/x-python",
   "name": "python",
   "nbconvert_exporter": "python",
   "pygments_lexer": "ipython3",
   "version": "3.7.3"
  }
 },
 "nbformat": 4,
 "nbformat_minor": 2
}
