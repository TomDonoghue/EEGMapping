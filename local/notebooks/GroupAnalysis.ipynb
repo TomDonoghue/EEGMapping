{
 "cells": [
  {
   "cell_type": "markdown",
   "metadata": {},
   "source": [
    "# EEGMapping: Group Analysis (Local Data)\n",
    "\n",
    "Words, words, words."
   ]
  },
  {
   "cell_type": "code",
   "execution_count": null,
   "metadata": {},
   "outputs": [],
   "source": [
    "%matplotlib inline\n",
    "%load_ext autoreload\n",
    "\n",
    "import os\n",
    "import pickle\n",
    "\n",
    "import mne\n",
    "import numpy as np\n",
    "import pandas as pd\n",
    "from matplotlib import cm\n",
    "import matplotlib.pyplot as plt\n",
    "from sklearn.preprocessing import scale\n",
    "from scipy.stats import ttest_1samp, ttest_ind, sem, pearsonr\n",
    "\n",
    "from fooof import FOOOF, FOOOFGroup"
   ]
  },
  {
   "cell_type": "code",
   "execution_count": null,
   "metadata": {
    "collapsed": true
   },
   "outputs": [],
   "source": [
    "# Import custom code for this analysis\n",
    "% autoreload 2\n",
    "from plots import *\n",
    "from utilities import *\n",
    "from analysis import *"
   ]
  },
  {
   "cell_type": "markdown",
   "metadata": {},
   "source": [
    "## Settings\n",
    "\n",
    "Put all general settings here. "
   ]
  },
  {
   "cell_type": "code",
   "execution_count": null,
   "metadata": {
    "collapsed": true
   },
   "outputs": [],
   "source": [
    "# Set whether to save out all the figures\n",
    "SAVE_FIGS = False\n",
    "\n",
    "# Whether to make the data\n",
    "MASKING = True\n",
    "\n",
    "# This controls how much stuff MNE prints out\n",
    "mne.set_log_level(verbose=False)"
   ]
  },
  {
   "cell_type": "markdown",
   "metadata": {},
   "source": [
    "# To Do's - master version:\n",
    "\n",
    "### Plotting\n",
    "- Figure out how to plot topographies with nan values\n",
    "    - Use MNE masks to select which channels will be plotted\n",
    "        - Suggestion: add a check for which channels have data. Boolean select these channels & positions to pass into plotting.\n",
    "- Reorganize notebook for which parts you have to re run\n",
    "\n",
    "### Quantitative Corrs\n",
    "- Set it up to measure correlation & plot scatterplot\n",
    "    - Generally, for any band, any FOOOF feature \n",
    "        - First: set band & feature, run to see results (finish the generalization: get a scatter plot & corr)\n",
    "        - Also: add to plot Medial -> Lateral (abs)\n",
    "- Collect all R's into corr matrix\n",
    "- Bonus: plot the corr matrix as a colored plot (red/blue). Hint: plt.imshow(matrix). Extra bonus: add a colorbar. \n",
    "        \n",
    "### Per subject analysis\n",
    "- Do the same spatial correlations, per subject, collect distributions of r-vals & p-vals\n",
    "- Plot: boxplots of the R-values, across subjects\n",
    "\n",
    "### Band to Band Correlations\n",
    "- Amplitude-amplitude correlations between bands (across channels)\n",
    "- Plot: corr-matrix"
   ]
  },
  {
   "cell_type": "markdown",
   "metadata": {
    "collapsed": true
   },
   "source": [
    "# Loading information"
   ]
  },
  {
   "cell_type": "code",
   "execution_count": null,
   "metadata": {
    "collapsed": true
   },
   "outputs": [],
   "source": [
    "#lOADING CHANNELS FROM txt\n",
    "#save_path = \"C:\\\\Users\\\\abc\\\\EEG-MNE\\\\data\"\n",
    "save_path = '../data'\n",
    "\n",
    "chan_dat = 'channel_dat.txt'\n",
    "chan_file = os.path.join(save_path, chan_dat)"
   ]
  },
  {
   "cell_type": "code",
   "execution_count": null,
   "metadata": {
    "collapsed": true
   },
   "outputs": [],
   "source": [
    "# Set up subject numbers\n",
    "subj_dat_num = list(range(3502, 3516))\n",
    "subj_dat_num2 =list(range(3001, 3015))\n",
    "all_subj = subj_dat_num + subj_dat_num2"
   ]
  },
  {
   "cell_type": "code",
   "execution_count": null,
   "metadata": {},
   "outputs": [],
   "source": [
    "# #LOADING CHANNELS from raw data\n",
    "# # This base path will need updating\n",
    "# base_path = 'D:\\\\abc\\\\Documents\\\\Research\\\\PBA_Data'\n",
    "\n",
    "# # These should stay the same\n",
    "# #subj_dat_fname = '._3001_resampled.set'\n",
    "# subj_dat_fname = '3002_resampled.set'\n",
    "# full_path = os.path.join(base_path, subj_dat_fname)\n",
    "# eeg_dat = mne.io.read_raw_eeglab(full_path, preload=True)\n",
    "\n",
    "# For Tom's Computer\n",
    "save_path = '/Users/tom/Documents/Research/1-Projects/Phase/Experiments/PBA/2-Data/PBA-3/2-processed/EEG'\n",
    "eeg_dat = mne.io.read_raw_eeglab(os.path.join(save_path, '3002_resampled.set'), preload=True, verbose=False)"
   ]
  },
  {
   "cell_type": "code",
   "execution_count": null,
   "metadata": {},
   "outputs": [],
   "source": [
    "# Load and set the montage for the data\n",
    "montage = mne.channels.read_montage('standard_1020', eeg_dat.ch_names)\n",
    "eeg_dat.set_montage(montage)"
   ]
  },
  {
   "cell_type": "code",
   "execution_count": null,
   "metadata": {},
   "outputs": [],
   "source": [
    "# Check the sensor map\n",
    "eeg_dat.plot_sensors(show_names=True);"
   ]
  },
  {
   "cell_type": "code",
   "execution_count": null,
   "metadata": {
    "collapsed": true
   },
   "outputs": [],
   "source": [
    "# Extract channel positions from a subjects data object\n",
    "pos_new = np.asarray([ch['loc'][:3] for ch in eeg_dat.info['chs']])\n",
    "\n",
    "# Drop stim channel\n",
    "pos_new = pos_new[:-1, :]"
   ]
  },
  {
   "cell_type": "code",
   "execution_count": null,
   "metadata": {
    "collapsed": true
   },
   "outputs": [],
   "source": [
    "# Update montage with channel positions\n",
    "montage.pos = pos_new\n",
    "pos = montage.get_pos2d()\n",
    "montage = None"
   ]
  },
  {
   "cell_type": "markdown",
   "metadata": {
    "collapsed": true
   },
   "source": [
    "# DATA SET UP"
   ]
  },
  {
   "cell_type": "code",
   "execution_count": null,
   "metadata": {
    "collapsed": true
   },
   "outputs": [],
   "source": [
    "# Load oscillations data\n",
    "rtPB_rest_results = load_pickle('rtPB_rest_results')\n",
    "rtPB_trial_results = load_pickle('rtPB_trial_results')\n",
    "PBA_rest_results = load_pickle('PBA_rest_results')\n",
    "PBA_trial_results = load_pickle('PBA_trial_results')"
   ]
  },
  {
   "cell_type": "code",
   "execution_count": null,
   "metadata": {
    "collapsed": true
   },
   "outputs": [],
   "source": [
    "# Load slope data\n",
    "rtPB_rest_slope_results = load_pickle('rtPB_rest_slope_results')\n",
    "rtPB_trial_slope_results = load_pickle('rtPB_trial_slope_results')\n",
    "PBA_rest_slope_results = load_pickle('PBA_rest_slope_results')\n",
    "PBA_trial_slope_results = load_pickle('PBA_trial_slope_results')"
   ]
  },
  {
   "cell_type": "code",
   "execution_count": null,
   "metadata": {
    "collapsed": true
   },
   "outputs": [],
   "source": [
    "# # NEW Data\n",
    "# ret = open('..\\\\data\\\\analysis\\\\rtPB_rest_results.pkl','rb')\n",
    "# rtPB_rest_results = pickle.load(ret)\n",
    "\n",
    "# ret = open('..\\\\data\\\\analysis\\\\rtPB_trial_results.pkl','rb')\n",
    "# rtPB_trial_results = pickle.load(ret)\n",
    "\n",
    "# ret = open('..\\\\data\\\\analysis\\\\PBA_rest_results.pkl','rb')\n",
    "# PBA_rest_results = pickle.load(ret)\n",
    "\n",
    "# ret = open('..\\\\data\\\\analysis\\\\PBA_trial_results.pkl','rb')\n",
    "# PBA_trial_results = pickle.load(ret)"
   ]
  },
  {
   "cell_type": "code",
   "execution_count": null,
   "metadata": {
    "collapsed": true
   },
   "outputs": [],
   "source": [
    "# # Slope Data\n",
    "# slope_ret = open('..\\\\data\\\\analysis\\\\rtPB_rest_slope_results.pkl','rb')\n",
    "# rtPB_rest_slope_results = pickle.load(slope_ret)\n",
    "\n",
    "# slope_ret = open('..\\\\data\\\\analysis\\\\rtPB_trial_slope_results.pkl','rb')\n",
    "# rtPB_trial_slope_results = pickle.load(slope_ret)\n",
    "\n",
    "# slope_ret = open('..\\\\data\\\\analysis\\\\PBA_rest_slope_results.pkl','rb')\n",
    "# PBA_rest_slope_results = pickle.load(slope_ret)\n",
    "\n",
    "# slope_ret = open('..\\\\data\\\\analysis\\\\PBA_trial_slope_results.pkl','rb')\n",
    "# PBA_trial_slope_results = pickle.load(slope_ret)"
   ]
  },
  {
   "cell_type": "markdown",
   "metadata": {},
   "source": [
    "## Masking"
   ]
  },
  {
   "cell_type": "code",
   "execution_count": null,
   "metadata": {
    "collapsed": true
   },
   "outputs": [],
   "source": [
    "# Set the channel cluster of interest\n",
    "pos_ch_cluster = ['Oz','O1','O2','POz','PO3','PO4','PO7','PO8','PO9','PO10']\n",
    "# Check the indices for the channel cluster\n",
    "pos_ch_cluster_index = masking_cluster(pos_ch_cluster, eeg_dat)"
   ]
  },
  {
   "cell_type": "markdown",
   "metadata": {},
   "source": [
    "# Analyses across STATE"
   ]
  },
  {
   "cell_type": "code",
   "execution_count": null,
   "metadata": {
    "collapsed": true
   },
   "outputs": [],
   "source": [
    "# Set up date for state plots\n",
    "rtpb_all_osc_data = [rtPB_trial_results, rtPB_rest_results]\n",
    "pba_all_osc_data = [PBA_trial_results, PBA_rest_results]\n",
    "comb_all_osc_data = [combine_groups_dict(rtPB_trial_results, PBA_trial_results),\n",
    "                     combine_groups_dict(rtPB_rest_results, PBA_rest_results)]\n",
    "\n",
    "# Make list of possible groups to run\n",
    "groups_oscs = [rtpb_all_osc_data, pba_all_osc_data, comb_all_osc_data]\n",
    "\n",
    "rtpb_all_slope_data = [rtPB_trial_slope_results, rtPB_rest_slope_results]\n",
    "pba_all_slope_data = [PBA_trial_slope_results, PBA_rest_slope_results]\n",
    "comb_all_slope_data = [combine_groups_array(rtPB_trial_slope_results, PBA_trial_slope_results),\n",
    "                       combine_groups_array(rtPB_rest_slope_results, PBA_rest_slope_results)]\n",
    "\n",
    "# Make list of possible groups to run\n",
    "groups_slopes = [rtpb_all_slope_data, pba_all_slope_data, comb_all_slope_data]\n",
    "\n",
    "# Set labels for group lists\n",
    "labels = ['rtpb', 'pba', 'comb']"
   ]
  },
  {
   "cell_type": "code",
   "execution_count": null,
   "metadata": {
    "collapsed": true,
    "scrolled": false
   },
   "outputs": [],
   "source": [
    "# Run analysis across state - oscs\n",
    "corr_dicts = []\n",
    "for label, group in zip(labels, groups_oscs):\n",
    "    corr_dicts.append(run_state_dict(group, label, False, SAVE_FIGS))"
   ]
  },
  {
   "cell_type": "code",
   "execution_count": null,
   "metadata": {
    "collapsed": true
   },
   "outputs": [],
   "source": [
    "# Run analysis across state - slope\n",
    "for label, group in zip(labels, groups_slopes):\n",
    "    run_state_array(group, label, False, ['Offset', 'Slope'], SAVE_FIGS)"
   ]
  },
  {
   "cell_type": "markdown",
   "metadata": {},
   "source": [
    "# Analyses Across SPACE"
   ]
  },
  {
   "cell_type": "code",
   "execution_count": null,
   "metadata": {
    "scrolled": false
   },
   "outputs": [],
   "source": [
    "# Make topos, for each state, within and between datasets, for all features and bands\n",
    "spatial_corr_trial = make_topos_dict([PBA_trial_results, rtPB_trial_results],\n",
    "                                     label=\"Trial\", eeg_dat_info=eeg_dat.info, pos=pos, save_fig=SAVE_FIGS)\n",
    "spatial_corr_rest = make_topos_dict([PBA_rest_results, rtPB_rest_results],label=\"Rest\",\n",
    "                                    eeg_dat_info=eeg_dat.info, pos=pos, save_fig=SAVE_FIGS)\n",
    "spatial_slope_corr_trial = make_topos_array([PBA_trial_slope_results, rtPB_trial_slope_results],\n",
    "                                            label=\"Trial\", eeg_dat_info=eeg_dat.info, pos=pos,\n",
    "                                            feats=['Offsets', 'Slope'], save_fig=SAVE_FIGS)\n",
    "spatial_slope_corr_rest = make_topos_array([PBA_rest_slope_results, rtPB_rest_slope_results], \n",
    "                                            label=\"Rest\", eeg_dat_info=eeg_dat.info, pos=pos,                                             \n",
    "                                            feats=['Offsets', 'Slope'], save_fig=SAVE_FIGS)"
   ]
  },
  {
   "cell_type": "markdown",
   "metadata": {},
   "source": [
    "# Spatial Correlations Between Bands\n",
    "\n",
    "NOTE: In Progess"
   ]
  },
  {
   "cell_type": "code",
   "execution_count": null,
   "metadata": {
    "collapsed": true
   },
   "outputs": [],
   "source": [
    "\n",
    "index = group_bands.keys()\n",
    "d_corrm = pd.DataFrame(index=index, columns=index, dtype = float)\n",
    "#Dataframe for correlaton matrix\n",
    "for band in group_bands:\n",
    "    data1 = group_bands[band][:,features[feature]]\n",
    "    for band2 in group_bands:\n",
    "        data2 = group_bands[band2][:,features[feature]]\n",
    "        masked_arr1=mask_nan_array(data1)\n",
    "        masked_arr2=mask_nan_array(data2)\n",
    "        corr_val = pearsonr(data1, data2)[0]\n",
    "        d_corrm.loc[band, band2] = corr_val\n",
    "\n"
   ]
  },
  {
   "cell_type": "code",
   "execution_count": null,
   "metadata": {
    "collapsed": true
   },
   "outputs": [],
   "source": [
    "plt.imshow(d_corrm)"
   ]
  },
  {
   "cell_type": "code",
   "execution_count": null,
   "metadata": {
    "collapsed": true
   },
   "outputs": [],
   "source": []
  },
  {
   "cell_type": "markdown",
   "metadata": {},
   "source": [
    "# Analyses Across TIME"
   ]
  },
  {
   "cell_type": "code",
   "execution_count": null,
   "metadata": {
    "collapsed": true,
    "scrolled": false
   },
   "outputs": [],
   "source": [
    "PBA_across_oscs_corr_trial = run_dict_across_blocks('PBA', PBA_trial_results, pos_ch_cluster_index, SAVE_FIGS)\n",
    "rtPB_across_oscs_corr_trial = run_dict_across_blocks('rtPB', rtPB_trial_results, pos_ch_cluster_index, SAVE_FIGS)\n",
    "\n",
    "PBA_across_slope_corr_trial = run_array_across_blocks('PBA', PBA_trial_slope_results,\n",
    "                                                      pos_ch_cluster_index, ['Offset', 'Slope'], SAVE_FIGS)\n",
    "rtPB_across_slope_corr_trial = run_array_across_blocks('rtPB', rtPB_trial_slope_results,\n",
    "                                                       pos_ch_cluster_index, ['Offset', 'Slope'], SAVE_FIGS)"
   ]
  },
  {
   "cell_type": "code",
   "execution_count": null,
   "metadata": {
    "collapsed": true
   },
   "outputs": [],
   "source": []
  },
  {
   "cell_type": "code",
   "execution_count": null,
   "metadata": {
    "collapsed": true
   },
   "outputs": [],
   "source": [
    "# Check correlations for BGs\n",
    "print(rtPB_across_slope_corr_trial)\n",
    "print(PBA_across_slope_corr_trial)"
   ]
  },
  {
   "cell_type": "code",
   "execution_count": null,
   "metadata": {
    "collapsed": true
   },
   "outputs": [],
   "source": [
    "# Check correlations across Oscs\n",
    "print(rtPB_across_oscs_corr_trial)\n",
    "print(PBA_across_oscs_corr_trial)"
   ]
  },
  {
   "cell_type": "code",
   "execution_count": null,
   "metadata": {
    "collapsed": true
   },
   "outputs": [],
   "source": []
  },
  {
   "cell_type": "markdown",
   "metadata": {},
   "source": [
    "# Subject Variability Plots"
   ]
  },
  {
   "cell_type": "code",
   "execution_count": null,
   "metadata": {
    "collapsed": true
   },
   "outputs": [],
   "source": [
    "# Get all rest\n",
    "all_rest = combine_groups_dict(rtPB_rest_results, PBA_rest_results)\n",
    "rest_alphas = all_rest['alpha'][:, 30, :]"
   ]
  },
  {
   "cell_type": "code",
   "execution_count": null,
   "metadata": {},
   "outputs": [],
   "source": [
    "# Plot rest alpha variability\n",
    "plot_oscillations(rest_alphas, SAVE_FIGS, save_name='OscillationVariability')\n",
    "plt.savefig('OscillationVariability')"
   ]
  },
  {
   "cell_type": "code",
   "execution_count": null,
   "metadata": {
    "collapsed": true
   },
   "outputs": [],
   "source": [
    "# Get all backgrounds\n",
    "all_slopes = combine_groups_array(rtPB_rest_slope_results, PBA_rest_slope_results)"
   ]
  },
  {
   "cell_type": "code",
   "execution_count": null,
   "metadata": {},
   "outputs": [],
   "source": [
    "# Plot background variability\n",
    "plot_background(all_slopes[:, 30, :], SAVE_FIGS, save_name='BackgroundVariability')\n",
    "plt.savefig('BackgroundVariability')"
   ]
  },
  {
   "cell_type": "code",
   "execution_count": null,
   "metadata": {
    "collapsed": true
   },
   "outputs": [],
   "source": []
  }
 ],
 "metadata": {
  "kernelspec": {
   "display_name": "Python [conda env:eeg36]",
   "language": "python",
   "name": "conda-env-eeg36-py"
  },
  "language_info": {
   "codemirror_mode": {
    "name": "ipython",
    "version": 3
   },
   "file_extension": ".py",
   "mimetype": "text/x-python",
   "name": "python",
   "nbconvert_exporter": "python",
   "pygments_lexer": "ipython3",
   "version": "3.6.1"
  }
 },
 "nbformat": 4,
 "nbformat_minor": 2
}
