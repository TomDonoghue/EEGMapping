{
 "cells": [
  {
   "cell_type": "markdown",
   "metadata": {},
   "source": [
    "# Temple University Dataset\n",
    "\n",
    "The Temple University Dataset is a large, open-access, dataset of clincal EEG data. \n",
    "\n",
    "Web link: https://www.isip.piconepress.com/projects/tuh_eeg/html/overview.shtml\n",
    "\n",
    "Paper Overview: http://journal.frontiersin.org/article/10.3389/fnins.2016.00196/full\n",
    "\n",
    "Ultimately, the goal will be to use this dataset, which is on a scale never really seen before in EEG datasets, to try and characterize and understand brain activity in a large cohort, across 'normal' brain activity, and disease. "
   ]
  },
  {
   "cell_type": "markdown",
   "metadata": {},
   "source": [
    "## TASKS:\n",
    "The first set of tasks relates to working on a pre-processing pipeline for the data. Regardless of the set of analyses we ultimately choose, the data need to be organized, cleaned and pre-processed in such a way that we have confidence that the analyses we run reflect brain activity, not artifacts. A key goal of setting up this pipeline is that it be automatic and robust - given the number of subjects, we need to have confidence we can run this pipeline without manual supervision, and trust the data that comes out of it. \n",
    "\n",
    "Note: since we're using MNE, we don't want to end up with some information inside the MNE objects, and some outside them. As we develop these processes, let's try to keep a tight integration with MNE. \n",
    "\n",
    "### First Goal:\n",
    "    - Fully clean a subject of the rest state, for example, run the PSD over the remaining channels, and trust it reflects brain activity.\n",
    "\n",
    "### Preprocessing Tasks\n",
    "Pre-processing pipeline:\n",
    "  - Sort out the channel names and data types. \n",
    "      - Target output: a list of just the standard channel names (example: FP1, Cz, T4)\n",
    "          - Also: Keep track of channel types. (Another list of ['EEG', 'EEG', 'EMG'])\n",
    "              - Then: make sure we can put this 'back' into the MNE objects - update the channel info accordingly. \n",
    "  - What are the event markers? How do we line them up with the data? Can we epoch into different 'states'?\n",
    "      - Target output: extracted epoch of resting data. \n",
    "  - How can we (automatically?) reject bad channels\n",
    "      - We want to figure out MNE's available tools to reject channels, and start applying them.\n",
    "      - Target output: For example subjects, channels we don't trust (visually) should be able to be 'dropped' (marked as bad so that they are ignored by future processing) by running an automatic process. \n",
    "  - How can we (automatically?) reject bad time segments\n",
    "      - We want to figure out MNE's available tools to reject time segments, and start applying them.\n",
    "      - Target output: For example subjects, time segments we don't trust (visually) should be dropped (again, marked bad to be ignored) by running an automatic process. \n",
    "  - How can we (automatically?) deal with stereotyped artifacts - such as eye blinks, heartbeats, saccades\n",
    "      - Here I mean artifacts that we can correct for, different from time segments we decide we need to avoid.\n",
    "      - We want to figure out MNE's available tools to correct for artifacts, and start applying them.\n",
    "      - Target output: This depends slightly more on what is available (in the data, and in MNE), but ideally, for heartbeat and eye blinks (perhaps others), we would like to be able to automatically label them and 'subtract' them out from the data in some way - such that we can keep, and still use, these segments of data. \n",
    "      \n",
    "Final outcome: A cleaned segment of resting data, ready for analysis, for 1 or 2 subjects. Working through this process will be very manually supervised, but hopefully by the time it's finished, the whole process can be re-run automatically, without human input, and this process can also be applied to other subjects. \n",
    "  \n",
    "### Database Work (2nd level of task)\n",
    "We will need utility functions to work with the database, to list subjects, find subjects, get paths, etc. \n",
    "- We'll work on this mainly when we want to scale up the number of subjects. Don't start it yet, I have some example code from other projects that can form a basis of this. \n",
    "\n",
    "\n",
    "### Metadata Work (3rd level of task)\n",
    "Ultimately, we probably want some tools to be able to automatically scrape the clinical notes, and extract key parameters, like age, sex, and diagnoses. \n",
    "- This is not an immediate priority, as it will become more relevant as we fine-tune the analyses. We might, for example, start with the clearly labelled 'epilepsy vs non-epilepsy' group that is available, before we try to do large-scale mining of the clinical notes. "
   ]
  },
  {
   "cell_type": "markdown",
   "metadata": {},
   "source": [
    "## Notes:\n",
    "- This first level of work is very pre-process-y, but required to get started with this data. Once we have a couple subjects set up with something that works at least reasonably well, we'll move on to more analysis stuff, and really get into the data, so that we're not stuck forever on pre-processing. \n",
    "- The goal is to get a rough version of the full pipeline, allowing us to 'see' the whole project, and find any major hurdles. It also, in practice, lets us try out each part of the project first, without getting bogged down at any particular step. \n",
    "- Eventually, we will have to double back and make sure each step is really robust.\n",
    "- Also, soon, we will work a bit on setting up our codebase as a proper module, for organization and scalability. "
   ]
  },
  {
   "cell_type": "code",
   "execution_count": 27,
   "metadata": {
    "collapsed": false
   },
   "outputs": [],
   "source": [
    "# Imports\n",
    "%matplotlib qt\n",
    "import mne\n",
    "import os"
   ]
  },
  {
   "cell_type": "code",
   "execution_count": 28,
   "metadata": {
    "collapsed": false
   },
   "outputs": [],
   "source": [
    "# Set up paths\n",
    "\n",
    "# This base path will need updating\n",
    "base_path = 'C:\\\\Users\\\\Luyanda Mdanda\\\\Documents\\\\Research\\\\EEG_Dat'\n",
    "\n",
    "# These should stay the same\n",
    "#subj_dat_fname = '._3501_resampled.set'\n",
    "subj_dat_fname = '3501_resampled.set'"
   ]
  },
  {
   "cell_type": "code",
   "execution_count": 29,
   "metadata": {
    "collapsed": false,
    "scrolled": false
   },
   "outputs": [
    {
     "name": "stdout",
     "output_type": "stream",
     "text": [
      "Events like the following will be dropped entirely: ['MissTrial', 'Peak_Pres_catch', 'DECIMAL pressed', 'Peak_Pres_thresh', 'Sham_Pres_threshold'], 41 in total\n"
     ]
    },
    {
     "name": "stderr",
     "output_type": "stream",
     "text": [
      "<ipython-input-29-be6a13d555ee>:3: RuntimeWarning: Events like the following will be dropped entirely: ['MissTrial', 'Peak_Pres_catch', 'DECIMAL pressed', 'Peak_Pres_thresh', 'Sham_Pres_threshold'], 41 in total\n",
      "  eeg_dat = mne.io.read_raw_eeglab(full_path)\n"
     ]
    },
    {
     "name": "stdout",
     "output_type": "stream",
     "text": [
      "2288/2998 event codes could not be mapped to integers. Use the 'event_id' parameter to map such events manually.\n",
      "Reading C:\\Users\\Luyanda Mdanda\\Documents\\Research\\EEG_Dat\\3051_resampled.fdt\n"
     ]
    },
    {
     "name": "stderr",
     "output_type": "stream",
     "text": [
      "<ipython-input-29-be6a13d555ee>:3: RuntimeWarning: 2288/2998 event codes could not be mapped to integers. Use the 'event_id' parameter to map such events manually.\n",
      "  eeg_dat = mne.io.read_raw_eeglab(full_path)\n"
     ]
    }
   ],
   "source": [
    "# Read in an example subject of data (subject chosen randomly)\n",
    "full_path = os.path.join(base_path, subj_dat_fname)\n",
    "eeg_dat = mne.io.read_raw_eeglab(full_path)\n",
    "\n",
    "#eeg_dat.set_eeg_reference()"
   ]
  },
  {
   "cell_type": "code",
   "execution_count": 30,
   "metadata": {
    "collapsed": false
   },
   "outputs": [
    {
     "data": {
      "text/plain": [
       "<Info | 16 non-empty fields\n",
       "    bads : 'list | 0 items\n",
       "    buffer_size_sec : 'float | 1.0\n",
       "    ch_names : 'list | Fp1, Fp2, F7, F3, Fz, F4, F8, FC5, FC1, FC2\n",
       "    chs : 'list | 65 items (EEG: 64, STIM: 1)\n",
       "    comps : 'list | 0 items\n",
       "    custom_ref_applied : 'bool | False\n",
       "    dev_head_t : 'mne.transforms.Transform | 3 items\n",
       "    events : 'list | 0 items\n",
       "    highpass : 'float | 0.0 Hz\n",
       "    hpi_meas : 'list | 0 items\n",
       "    hpi_results : 'list | 0 items\n",
       "    lowpass : 'float | 250.0 Hz\n",
       "    meas_date : 'numpy.ndarray | 1969-12-31 16:00:00\n",
       "    nchan : 'int | 65\n",
       "    projs : 'list | 0 items\n",
       "    sfreq : 'float | 500.0 Hz\n",
       "    acq_pars : 'NoneType\n",
       "    acq_stim : 'NoneType\n",
       "    ctf_head_t : 'NoneType\n",
       "    description : 'NoneType\n",
       "    dev_ctf_t : 'NoneType\n",
       "    dig : 'NoneType\n",
       "    experimenter : 'NoneType\n",
       "    file_id : 'NoneType\n",
       "    filename : 'NoneType\n",
       "    hpi_subsystem : 'NoneType\n",
       "    kit_system_id : 'NoneType\n",
       "    line_freq : 'NoneType\n",
       "    meas_id : 'NoneType\n",
       "    proj_id : 'NoneType\n",
       "    proj_name : 'NoneType\n",
       "    subject_info : 'NoneType\n",
       "    xplotter_layout : 'NoneType\n",
       ">"
      ]
     },
     "execution_count": 30,
     "metadata": {},
     "output_type": "execute_result"
    }
   ],
   "source": [
    "# verify that data has loaded correctly\n",
    "eeg_dat.info"
   ]
  },
  {
   "cell_type": "code",
   "execution_count": 31,
   "metadata": {
    "collapsed": false
   },
   "outputs": [
    {
     "data": {
      "text/plain": [
       "['Fp1',\n",
       " 'Fp2',\n",
       " 'F7',\n",
       " 'F3',\n",
       " 'Fz',\n",
       " 'F4',\n",
       " 'F8',\n",
       " 'FC5',\n",
       " 'FC1',\n",
       " 'FC2',\n",
       " 'FC6',\n",
       " 'T7',\n",
       " 'C3',\n",
       " 'Cz',\n",
       " 'C4',\n",
       " 'T8',\n",
       " 'TP9',\n",
       " 'CP5',\n",
       " 'CP1',\n",
       " 'CP2',\n",
       " 'CP6',\n",
       " 'TP10',\n",
       " 'P7',\n",
       " 'P3',\n",
       " 'Pz',\n",
       " 'P4',\n",
       " 'P8',\n",
       " 'PO9',\n",
       " 'O1',\n",
       " 'Oz',\n",
       " 'O2',\n",
       " 'PO10',\n",
       " 'AF7',\n",
       " 'AF3',\n",
       " 'AF4',\n",
       " 'AF8',\n",
       " 'F5',\n",
       " 'F1',\n",
       " 'F2',\n",
       " 'F6',\n",
       " 'FT9',\n",
       " 'FT7',\n",
       " 'FC3',\n",
       " 'FC4',\n",
       " 'FT8',\n",
       " 'FT10',\n",
       " 'C5',\n",
       " 'C1',\n",
       " 'C2',\n",
       " 'C6',\n",
       " 'TP7',\n",
       " 'CP3',\n",
       " 'CPz',\n",
       " 'CP4',\n",
       " 'TP8',\n",
       " 'P5',\n",
       " 'P1',\n",
       " 'P2',\n",
       " 'P6',\n",
       " 'PO7',\n",
       " 'PO3',\n",
       " 'POz',\n",
       " 'PO4',\n",
       " 'PO8',\n",
       " 'STI 014']"
      ]
     },
     "execution_count": 31,
     "metadata": {},
     "output_type": "execute_result"
    }
   ],
   "source": [
    "# Check out the info object for this subject\n",
    "eeg_dat.ch_names"
   ]
  },
  {
   "cell_type": "code",
   "execution_count": 32,
   "metadata": {
    "collapsed": false
   },
   "outputs": [
    {
     "name": "stdout",
     "output_type": "stream",
     "text": [
      "No preprocessing on types done, data seems to be well formatted\n"
     ]
    }
   ],
   "source": [
    "# Example of one way to start fixing up the channels\n",
    "#  Priority again is to keep everything consistent with MNE, so first check for MNE functions that can do \n",
    "#   things like this, and that can update this information insode the data.info object. \n",
    "\n",
    "from collections import defaultdict\n",
    "ch_types = defaultdict(str)\n",
    "\n",
    "channel_names = []\n",
    "channel_types =[]\n",
    "# lists to store the array names\n",
    "\n",
    "processed = None\n",
    "# checks if eeg_dat was altered\n",
    "\n",
    "for ch in eeg_dat.ch_names:    \n",
    "    if 'EEG' in ch:\n",
    "        ch_types[ch] = 'eeg'\n",
    "        processed = True\n",
    "        \n",
    "    elif 'EMG' in ch:\n",
    "        ch_types[ch] = 'emg'\n",
    "        # Keeps track that this is an EMG channels\n",
    "        \n",
    "    elif 'STI' in ch:\n",
    "        ch_types[ch] = 'stim'\n",
    "        # Keeps track that this is an STI channel\n",
    "    \n",
    "    else:\n",
    "        ch_types[ch] = 'misc'\n",
    "        # Keeps track of MISC channels\n",
    "        \n",
    "eeg_dat.set_channel_types(ch_types)\n",
    "        \n",
    "for ch in eeg_dat.ch_names:    \n",
    "    if 'EEG' in ch:\n",
    "        ch = ch[4:7]\n",
    "        ch =''.join(e for e in ch if e.isalnum())\n",
    "        channel_names.append(ch)\n",
    "        channel_types.append('eeg')\n",
    "        ch_types[ch] = 'eeg'\n",
    "        \n",
    "    elif 'EMG' in ch:\n",
    "        ch = ch[4:7]\n",
    "        ch =''.join(e for e in ch if e.isalnum())\n",
    "        channel_names.append(ch)\n",
    "        channel_types.append('emg')\n",
    "        ch_types[ch] = 'emg'\n",
    "        # Keeps track that this is an EMG channels\n",
    "        \n",
    "    elif 'STI' in ch:\n",
    "        channel_names.append(ch)\n",
    "        channel_types.append('stim')\n",
    "        ch_types[ch] = 'stim'\n",
    "        # Keeps track that this is an STI channel\n",
    "    \n",
    "    else:\n",
    "        channel_names.append(ch)\n",
    "        channel_types.append('misc')\n",
    "        ch_types[ch] = 'misc'\n",
    "        # Keeps track of MISC channels\n",
    "        \n",
    "# The EEG channels use the standard naming strategy.\n",
    "# By supplying the 'montage' parameter, approximate locations\n",
    "montage = 'standard_1020'\n",
    "\n",
    "if processed:\n",
    "    info = mne.create_info(channel_names, eeg_dat.info['sfreq'], channel_types, montage)\n",
    "    print(info)\n",
    "    \n",
    "else:\n",
    "    print(\"No preprocessing on types done, data seems to be well formatted\")"
   ]
  },
  {
   "cell_type": "code",
   "execution_count": 33,
   "metadata": {
    "collapsed": false
   },
   "outputs": [
    {
     "data": {
      "text/plain": [
       "<Info | 16 non-empty fields\n",
       "    bads : 'list | 0 items\n",
       "    buffer_size_sec : 'float | 1.0\n",
       "    ch_names : 'list | Fp1, Fp2, F7, F3, Fz, F4, F8, FC5, FC1, FC2\n",
       "    chs : 'list | 65 items (MISC: 64, STIM: 1)\n",
       "    comps : 'list | 0 items\n",
       "    custom_ref_applied : 'bool | False\n",
       "    dev_head_t : 'mne.transforms.Transform | 3 items\n",
       "    events : 'list | 0 items\n",
       "    highpass : 'float | 0.0 Hz\n",
       "    hpi_meas : 'list | 0 items\n",
       "    hpi_results : 'list | 0 items\n",
       "    lowpass : 'float | 250.0 Hz\n",
       "    meas_date : 'numpy.ndarray | 1969-12-31 16:00:00\n",
       "    nchan : 'int | 65\n",
       "    projs : 'list | 0 items\n",
       "    sfreq : 'float | 500.0 Hz\n",
       "    acq_pars : 'NoneType\n",
       "    acq_stim : 'NoneType\n",
       "    ctf_head_t : 'NoneType\n",
       "    description : 'NoneType\n",
       "    dev_ctf_t : 'NoneType\n",
       "    dig : 'NoneType\n",
       "    experimenter : 'NoneType\n",
       "    file_id : 'NoneType\n",
       "    filename : 'NoneType\n",
       "    hpi_subsystem : 'NoneType\n",
       "    kit_system_id : 'NoneType\n",
       "    line_freq : 'NoneType\n",
       "    meas_id : 'NoneType\n",
       "    proj_id : 'NoneType\n",
       "    proj_name : 'NoneType\n",
       "    subject_info : 'NoneType\n",
       "    xplotter_layout : 'NoneType\n",
       ">"
      ]
     },
     "execution_count": 33,
     "metadata": {},
     "output_type": "execute_result"
    }
   ],
   "source": [
    "# Tests if information has been correctly organized\n",
    "eeg_dat.info"
   ]
  },
  {
   "cell_type": "code",
   "execution_count": 36,
   "metadata": {
    "collapsed": false,
    "scrolled": true
   },
   "outputs": [
    {
     "data": {
      "image/png": "[encoded data removed]",
      "text/plain": [
       "<matplotlib.figure.Figure at 0x21f92db02e8>"
      ]
     },
     "execution_count": 36,
     "metadata": {},
     "output_type": "execute_result"
    }
   ],
   "source": [
    "eeg_dat.plot()"
   ]
  },
  {
   "cell_type": "markdown",
   "metadata": {},
   "source": [
    "# <font color='red'>Tom: Why would this it try plot 3051_resampled.fdt, which doesn't exist rather than 3501_resampled.fdt, which exists</font>\n",
    "\n",
    "## <font color='green'>For purpose of quickly checking the pipeline itself, I made a 3051 copy</font>"
   ]
  },
  {
   "cell_type": "code",
   "execution_count": null,
   "metadata": {
    "collapsed": false,
    "scrolled": true
   },
   "outputs": [],
   "source": [
    "eeg_dat.load_data()\n",
    "\n",
    "# Low pass filtering below 1 Hz\n",
    "# High pass filtering above 40 Hz\n",
    "eeg_dat.filter( 1, 40, filter_length='auto')\n",
    "eeg_dat.plot_psd(area_mode='range', tmax=34.0)"
   ]
  },
  {
   "cell_type": "code",
   "execution_count": 35,
   "metadata": {
    "collapsed": false
   },
   "outputs": [
    {
     "name": "stdout",
     "output_type": "stream",
     "text": [
      "base_path\t ch\t ch_types\t channel_names\t channel_types\t defaultdict\t eeg_dat\t full_path\t mne\t \n",
      "montage\t os\t processed\t subj_dat_fname\t \n"
     ]
    }
   ],
   "source": []
  },
  {
   "cell_type": "code",
   "execution_count": null,
   "metadata": {
    "collapsed": false
   },
   "outputs": [],
   "source": [
    "type(eeg_dat._data[0:])\n",
    "eeg_dat._data[0, :].shape"
   ]
  },
  {
   "cell_type": "code",
   "execution_count": null,
   "metadata": {
    "collapsed": false,
    "scrolled": true
   },
   "outputs": [],
   "source": [
    "%matplotlib inline\n",
    "import matplotlib.pyplot as plt \n",
    "\n",
    "plt.plot(eeg_dat._data[0,0:500])\n",
    "# plt.plot(eeg_dat._data[,0:500])"
   ]
  },
  {
   "cell_type": "code",
   "execution_count": null,
   "metadata": {
    "collapsed": false
   },
   "outputs": [],
   "source": [
    "eeg_dat.info"
   ]
  },
  {
   "cell_type": "code",
   "execution_count": null,
   "metadata": {
    "collapsed": false
   },
   "outputs": [],
   "source": [
    "import numpy as np\n",
    "mins = []\n",
    "maxs = []\n",
    "\n",
    "nChans = eeg_dat.info['nchan']\n",
    "nTimes = 34\n",
    "\n",
    "dat = np.ones([nChans, nTimes])\n",
    "\n",
    "for i in range(nChans):\n",
    "   \n",
    "    # Pull out a row (which is a channel)\n",
    "    chan_data = eeg_dat._data[i, :]\n",
    "   \n",
    "    # Get the min and max of the row (channel)\n",
    "    mins.append(min(chan_data))\n",
    "    maxs.append(max(chan_data))\n",
    "\n",
    "# Calculate ranges\n",
    "ranges = []\n",
    "for mi, ma in zip(mins, maxs):\n",
    "    ranges.append(ma - mi)\n",
    "    \n",
    "# Calculate average range to set new threshold\n",
    "avrange = sum(ranges)/len(ranges)\n",
    "\n",
    "print (avrange)"
   ]
  },
  {
   "cell_type": "code",
   "execution_count": null,
   "metadata": {
    "collapsed": false
   },
   "outputs": [],
   "source": [
    "# Creates events at a 2 second as current data doesn't have any avaialble\n",
    "events = mne.make_fixed_length_events(eeg_dat, 0, start = 0, stop = 34 , duration = 2, first_samp = True)\n",
    "\n",
    "event_id = 0\n",
    "tmin = 0 # start of each epoch \n",
    "tmax = 2 # end of each epoch (2000ms after the trigger)\n",
    "baseline = None  # means from the first instant to t = 0\n",
    "reject = dict( eeg = 0.000121364317584) #used average range of channels\n",
    "\n",
    "picks_eeg = mne.pick_types(eeg_dat.info, meg=False, eeg=True, eog=True,\n",
    "                           stim=False, exclude='bads')\n",
    "\n",
    "epochs = mne.Epochs(eeg_dat, events, event_id, tmin, tmax, proj=True,\n",
    "                    picks=picks_eeg, baseline=baseline, reject = reject,\n",
    "                    reject_by_annotation=True, add_eeg_ref=False) ;"
   ]
  },
  {
   "cell_type": "markdown",
   "metadata": {
    "collapsed": false
   },
   "source": [
    "# Observation Notes for Tom\n",
    "I think this clearly indicates that EKG1, FP1, FP2 are bad channels. So I think I can go ahead and manually label these as bad???\n"
   ]
  },
  {
   "cell_type": "code",
   "execution_count": null,
   "metadata": {
    "collapsed": false
   },
   "outputs": [],
   "source": [
    "eeg_dat.info['bads'] = ['EEG FP1-REF','EEG FP2-REF', 'EEG EKG1-REF']"
   ]
  },
  {
   "cell_type": "code",
   "execution_count": null,
   "metadata": {
    "collapsed": false
   },
   "outputs": [],
   "source": [
    "eeg_dat.plot()"
   ]
  },
  {
   "cell_type": "code",
   "execution_count": null,
   "metadata": {
    "collapsed": false
   },
   "outputs": [],
   "source": [
    "# Creates events at a 2 second as current data doesn't have any avaialble\n",
    "events = mne.make_fixed_length_events(eeg_dat, 0, start = 0, stop = 34 , duration = 2, first_samp = True)\n",
    "\n",
    "event_id = 0\n",
    "tmin = 0 # start of each epoch \n",
    "tmax = 2 # end of each epoch (2000ms after the trigger)\n",
    "baseline = None  # means from the first instant to t = 0\n",
    "reject = dict( eeg = 0.000121364317584) #used average range of channels\n",
    "\n",
    "picks_eeg = mne.pick_types(eeg_dat.info, meg=False, eeg=True, eog=True,\n",
    "                           stim=False, exclude='bads')\n",
    "\n",
    "epochs = mne.Epochs(eeg_dat, events, event_id, tmin, tmax, proj=True,\n",
    "                    picks=picks_eeg, baseline=baseline, reject = reject,\n",
    "                    reject_by_annotation=True, add_eeg_ref=False) ;"
   ]
  },
  {
   "cell_type": "code",
   "execution_count": null,
   "metadata": {
    "collapsed": false
   },
   "outputs": [],
   "source": [
    "epochs.drop_bad()"
   ]
  },
  {
   "cell_type": "markdown",
   "metadata": {},
   "source": [
    "1.) Run Psd over each good channel\n",
    "2.) Find matrix of psd per channel\n",
    "3.) Parse those directl into FOOF\n",
    "\n",
    "\n",
    "    Calc psd across trials then ave across that\n",
    "....4.) Automate to set up some sort of comparrision\n",
    "\n"
   ]
  },
  {
   "cell_type": "code",
   "execution_count": null,
   "metadata": {
    "collapsed": false
   },
   "outputs": [],
   "source": [
    "epochs.plot_psd"
   ]
  },
  {
   "cell_type": "code",
   "execution_count": null,
   "metadata": {
    "collapsed": false
   },
   "outputs": [],
   "source": [
    "epochs.info"
   ]
  },
  {
   "cell_type": "markdown",
   "metadata": {},
   "source": [
    "# Check: New Epochs has no bad channels included."
   ]
  },
  {
   "cell_type": "code",
   "execution_count": null,
   "metadata": {
    "collapsed": false
   },
   "outputs": [],
   "source": [
    "epochs._data??"
   ]
  },
  {
   "cell_type": "markdown",
   "metadata": {},
   "source": [
    "Type:        NoneType\n",
    "String form: None\n",
    "Docstring:   <no docstring>"
   ]
  },
  {
   "cell_type": "code",
   "execution_count": null,
   "metadata": {
    "collapsed": false
   },
   "outputs": [],
   "source": [
    "type(epochs)"
   ]
  },
  {
   "cell_type": "code",
   "execution_count": null,
   "metadata": {
    "collapsed": false
   },
   "outputs": [],
   "source": [
    "epochs._get_data()\n",
    "# Load all data, dropping bad epochs along the way"
   ]
  },
  {
   "cell_type": "markdown",
   "metadata": {},
   "source": [
    "# Promising.... if I had better understanding of what I was looking at"
   ]
  },
  {
   "cell_type": "code",
   "execution_count": null,
   "metadata": {
    "collapsed": false
   },
   "outputs": [],
   "source": [
    "%matplotlib inline\n",
    "import matplotlib.pyplot as plt \n",
    "from mpl_toolkits.mplot3d import Axes3D\n",
    "fig = plt.figure()\n",
    "plt.plot(epochs._get_data())\n",
    "\n",
    "\n",
    "# plt.plot(eeg_dat._data[,0:500])"
   ]
  },
  {
   "cell_type": "markdown",
   "metadata": {
    "collapsed": true
   },
   "source": [
    "# Get PSDs per channel"
   ]
  },
  {
   "cell_type": "code",
   "execution_count": null,
   "metadata": {
    "collapsed": false
   },
   "outputs": [],
   "source": [
    "import matplotlib.pyplot as plt\n",
    "from mpl_toolkits.mplot3d import Axes3D\n",
    "fig = plt.figure()\n",
    "ax = fig.add_subplot(111, projection='3d')\n",
    "\n",
    "Axes3D.scatter(xs, ys, zs=0, zdir='z', s=20, c=None, depthshade=True, *args, **kwargs)"
   ]
  },
  {
   "cell_type": "code",
   "execution_count": null,
   "metadata": {
    "collapsed": true
   },
   "outputs": [],
   "source": []
  }
 ],
 "metadata": {
  "anaconda-cloud": {},
  "kernelspec": {
   "display_name": "Python 2",
   "language": "python",
   "name": "python2"
  },
  "language_info": {
   "codemirror_mode": {
    "name": "ipython",
    "version": 2
   },
   "file_extension": ".py",
   "mimetype": "text/x-python",
   "name": "python",
   "nbconvert_exporter": "python",
   "pygments_lexer": "ipython2",
   "version": "2.7.13"
  }
 },
 "nbformat": 4,
 "nbformat_minor": 0
}
