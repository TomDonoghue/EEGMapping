{
 "cells": [
  {
   "cell_type": "code",
   "execution_count": null,
   "metadata": {},
   "outputs": [],
   "source": [
    "%matplotlib inline"
   ]
  },
  {
   "cell_type": "code",
   "execution_count": null,
   "metadata": {},
   "outputs": [],
   "source": [
    "import os\n",
    "\n",
    "import numpy as np\n",
    "import matplotlib.pyplot as plt\n",
    "\n",
    "from fooof import FOOOFGroup\n",
    "\n",
    "from om.plts.meg import plot_osc_profiles, plot_all_oscs_single"
   ]
  },
  {
   "cell_type": "code",
   "execution_count": null,
   "metadata": {},
   "outputs": [],
   "source": [
    "#dat_path = '/Users/tom/Desktop/EEGMapping_local/Rest_Results/'\n",
    "dat_path = '/Users/tom/Desktop/EEGMapping_local/Trial_Results/'"
   ]
  },
  {
   "cell_type": "code",
   "execution_count": null,
   "metadata": {},
   "outputs": [],
   "source": [
    "subj_files = os.listdir(dat_path)\n",
    "subj_files = [file for file in subj_files if '0.json' in file]"
   ]
  },
  {
   "cell_type": "code",
   "execution_count": null,
   "metadata": {},
   "outputs": [],
   "source": [
    "##\n",
    "##\n",
    "centers_all = []\n",
    "centers_hists = []\n",
    "\n",
    "fg = FOOOFGroup()\n",
    "\n",
    "for subj_file in subj_files:\n",
    "\n",
    "    # Load FG\n",
    "    fg.load(os.path.join(dat_path, subj_file))\n",
    "\n",
    "    # Get peak params\n",
    "    subj_centers = fg.get_all_data('peak_params')[:, 0]\n",
    "    \n",
    "    cens, _ = np.histogram(subj_centers, bins=np.arange(3, 40.25, 0.25))\n",
    "\n",
    "    centers_all.extend(subj_centers)\n",
    "    centers_hists.append(cens)"
   ]
  },
  {
   "cell_type": "code",
   "execution_count": null,
   "metadata": {},
   "outputs": [],
   "source": [
    "plot_osc_profiles(centers_hists, n_subj=int(len(subj_files)/2))\n",
    "plt.savefig('OscProfiles.png', bbox_inches='tight', dpi=300)"
   ]
  },
  {
   "cell_type": "code",
   "execution_count": null,
   "metadata": {},
   "outputs": [],
   "source": [
    "plot_all_oscs_single(centers_all, 0, 'CFs', n_bins=150, size=(18, 5), save_out=False)\n",
    "plt.savefig('OscCenters.png', bbox_inches='tight', dpi=300)"
   ]
  },
  {
   "cell_type": "code",
   "execution_count": null,
   "metadata": {},
   "outputs": [],
   "source": []
  }
 ],
 "metadata": {
  "kernelspec": {
   "display_name": "Python 3",
   "language": "python",
   "name": "python3"
  },
  "language_info": {
   "codemirror_mode": {
    "name": "ipython",
    "version": 3
   },
   "file_extension": ".py",
   "mimetype": "text/x-python",
   "name": "python",
   "nbconvert_exporter": "python",
   "pygments_lexer": "ipython3",
   "version": "3.7.3"
  }
 },
 "nbformat": 4,
 "nbformat_minor": 2
}
